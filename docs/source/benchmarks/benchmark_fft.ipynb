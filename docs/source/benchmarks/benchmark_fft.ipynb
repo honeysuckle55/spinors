{
  "cells": [
    {
      "cell_type": "code",
      "execution_count": null,
      "metadata": {
        "collapsed": false
      },
      "outputs": [],
      "source": [
        "%matplotlib inline"
      ]
    },
    {
      "cell_type": "markdown",
      "metadata": {},
      "source": [
        "\n# FFT and iFFT Time\n\nOn a given system and hardware configuration, times the FFT and iFFT function\ncalls for increasing mesh grid sizes.\n"
      ]
    },
    {
      "cell_type": "code",
      "execution_count": null,
      "metadata": {
        "collapsed": false
      },
      "outputs": [],
      "source": [
        "import os\nimport sys\nimport timeit\nsys.path.insert(0, os.path.abspath('../..'))  # Adds project root to the PATH\n\nimport numpy as np\nimport torch\nfrom scipy.stats import median_abs_deviation as mad\n\nfrom spinor_gpe.pspinor import pspinor as spin\nfrom spinor_gpe.pspinor import tensor_tools as ttools\n\ntorch.cuda.empty_cache()\n\ngrids = [(64, 64),\n         (64, 128),\n         (128, 128),\n         (128, 256),\n         (256, 256),\n         (256, 512),\n         (512, 512),\n         (512, 1024),\n         (1024, 1024),\n         (1024, 2048),\n         (2048, 2048),\n         (2048, 4096),\n         (4096, 4096)]\nn_grids = len(grids)\nmeas_times = [[0] for i in range(n_grids)]\nrepeats = np.zeros(n_grids)\nsize = np.zeros(n_grids)\n\n\nDATA_PATH = 'benchmarks/Bench_001'  # Default data path is in the /data/ folder\n\nW = 2 * np.pi * 50\nATOM_NUM = 1e2\nOMEG = {'x': W, 'y': W, 'z': 40 * W}\nG_SC = {'uu': 1, 'dd': 1, 'ud': 1.04}\n\nDEVICE = 'cuda'\nCOMPUTER = 'Acer Aspire'\n\nfor i, grid in enumerate(grids):\n    print(i)\n    try:\n        ps = spin.PSpinor(DATA_PATH, overwrite=True,\n                          atom_num=ATOM_NUM, omeg=OMEG, g_sc=G_SC,\n                          pop_frac=(0.5, 0.5), r_sizes=(8, 8),\n                          mesh_points=grid)\n\n        ps.coupling_setup(wavel=790.1e-9, kin_shift=False)\n\n        res, prop = ps.imaginary(1/50, 1, DEVICE, is_sampling=False)\n\n        stmt = \"\"\"ttools.fft_2d(prop.psik, prop.space['dr'])\"\"\"\n\n        timer = timeit.Timer(stmt=stmt, globals=globals())\n\n        N = timer.autorange()[0]\n        if N < 10:\n            N *= 10\n        vals = timer.repeat(N, 1)\n        meas_times[i] = vals\n        repeats[i] = N\n        size[i] = np.log2(np.prod(grid))\n\n        torch.cuda.empty_cache()\n    except RuntimeError as ex:\n        print(ex)\n        break\n\nmedian = np.array([np.median(times) for times in meas_times])\nmed_ab_dev = np.array([mad(times, scale='normal') for times in meas_times])\n\ntag = 'fft\\\\' + COMPUTER + '_' + DEVICE + '_fft'\nnp.savez(ps.paths['data'] + '..\\\\' + tag, computer=COMPUTER, device=DEVICE,\n         size=size, n_repeats=repeats, med=median, mad=med_ab_dev)\n\nnp.save(ps.paths['data'] + '..\\\\' + tag, np.array(meas_times, dtype='object'))"
      ]
    },
    {
      "cell_type": "code",
      "execution_count": null,
      "metadata": {
        "collapsed": false
      },
      "outputs": [],
      "source": [
        "for i, grid in enumerate(grids):\n    print(i)\n    try:\n        ps = spin.PSpinor(DATA_PATH, overwrite=True,\n                          atom_num=ATOM_NUM, omeg=OMEG, g_sc=G_SC,\n                          pop_frac=(0.5, 0.5), r_sizes=(8, 8),\n                          mesh_points=grid)\n\n        ps.coupling_setup(wavel=790.1e-9, kin_shift=False)\n\n        res, prop = ps.imaginary(1/50, 1, DEVICE, is_sampling=False)\n\n        stmt = \"\"\"ttools.ifft_2d(prop.psik, prop.space['dr'])\"\"\"\n\n        timer = timeit.Timer(stmt=stmt, globals=globals())\n\n        N = timer.autorange()[0] * 10\n        vals = timer.repeat(N, 1)\n        meas_times[i] = vals\n        repeats[i] = N\n        size[i] = np.log2(np.prod(grid))\n\n        torch.cuda.empty_cache()\n    except RuntimeError as ex:\n        print(ex)\n        break\n\nmedian = np.array([np.median(times) for times in meas_times])\nmed_ab_dev = np.array([mad(times, scale='normal') for times in meas_times])\n\ntag = COMPUTER + '_' + DEVICE + '_ifft'\nnp.savez('data\\\\' + tag, computer=COMPUTER, device=DEVICE,\n         size=size, n_repeats=repeats, med=median, mad=med_ab_dev)\n\nnp.save(ps.paths['data'] + '..\\\\' + tag, np.array(meas_times, dtype='object'))"
      ]
    }
  ],
  "metadata": {
    "kernelspec": {
      "display_name": "Python 3",
      "language": "python",
      "name": "python3"
    },
    "language_info": {
      "codemirror_mode": {
        "name": "ipython",
        "version": 3
      },
      "file_extension": ".py",
      "mimetype": "text/x-python",
      "name": "python",
      "nbconvert_exporter": "python",
      "pygments_lexer": "ipython3",
      "version": "3.7.11"
    }
  },
  "nbformat": 4,
  "nbformat_minor": 0
}