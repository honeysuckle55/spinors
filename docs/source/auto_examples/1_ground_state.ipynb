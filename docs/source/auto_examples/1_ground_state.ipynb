{
  "cells": [
    {
      "cell_type": "code",
      "execution_count": null,
      "metadata": {
        "collapsed": false
      },
      "outputs": [],
      "source": [
        "%matplotlib inline"
      ]
    },
    {
      "cell_type": "markdown",
      "metadata": {},
      "source": [
        "\n# Example 1: Ground State\n\nStarting with the Thomas-Fermi solution, propagate in imaginary time to\nreach the ground state. Propagation smooths out the sharp edges\non both components' densities.\n\n## Physical Parameters\n.. topic:: Atom number\n\n    $\\quad N_{\\rm at} = 100$\n\n.. topic:: Atomic mass, Rubidium-87\n\n    $\\quad m = 1.4442 \\times 10^{-25}~[\\rm kg]$\n\n.. topic:: Trap frequencies\n\n    $\\quad (\\omega_x, \\omega_y, \\omega_z) = 2 \\pi \\times (50, 50, 2000)~[{\\rm Hz}]$\n\n    $\\quad (\\omega_x, \\omega_y, \\omega_z) = \\omega_x \\times (1, \\gamma, \\eta) = (1, 1, 40)~[\\omega_x]$\n\n.. topic:: Harmonic oscillator length, x-axis\n\n    $\\quad a_x = \\sqrt{\\hbar / m \\omega_x} = 1.525~[{\\mu\\rm m}]$\n\n.. topic:: 3D scattering length, Rubidium-87\n\n    | $\\quad a = 5.313~[{\\rm nm}]$\n\n    | $\\quad a_{\\rm sc} = a / a_x = 0.00348~[a_x]$\n\n.. topic:: Scattering 2D scale\n\n    | $\\quad g_{\\rm sc}^{2\\rm D} = \\sqrt{8\\pi\\eta}~a_{\\rm sc} = 0.1105~[\\omega_x a_x^2]$\n\n.. topic:: Scattering coupling\n\n    | $\\quad (g_{\\rm uu}, g_{\\rm dd}, g_{\\rm ud}) = g_{\\rm sc}^{2 \\rm D} \\times (1, 1, 1.04)~[\\omega_x a_x^2]$\n\n.. topic:: Chemical potential\n\n    $\\quad \\mu = \\sqrt{4 N_{\\rm at} a_{\\rm sc} \\gamma \\sqrt{\\eta / 2 \\pi}} = 1.875~[\\omega_x]$\n\n.. topic:: Thomas-Fermi radius\n\n    $\\quad R_{\\rm TF} = \\sqrt{2 \\mu} = 1.937~[a_x]$\n\n.. topic:: Initial population fractions\n\n    $\\quad (p_0, p_1) = (0.5, 0.5)$\n\n.. topic:: Raman wavelength\n\n    $\\quad \\lambda_L = 790.1~[{\\rm nm}]$\n\n## Numerical Parameters\n\n.. topic:: Number of grid points\n\n    $\\quad (N_x, N_y) = (64, 64)$\n\n.. topic:: r-grid half-size\n\n    $\\quad (x^{\\rm max}, y^{\\rm max}) = (8, 8)~[a_x]$\n\n.. topic:: r-grid spacing\n\n    $\\quad (\\Delta x, \\Delta y) = (0.25, 0.25)~[a_x]$\n\n.. topic:: k-grid half-size\n\n    $\\quad (k_x^{\\rm max}, k_y^{\\rm max}) = \\pi / (\\Delta x, \\Delta y)$\n\n    $\\quad (k_x^{\\rm max}, k_y^{\\rm max}) = (12.566, 12.566)~[a_x^{-1}]$\n\n.. topic:: k-grid spacing\n\n    $\\quad (\\Delta k_x, \\Delta k_y) = \\pi / (x^{\\rm max}, y^{\\rm max})$\n\n    $\\quad (\\Delta k_x, \\Delta k_y) = (0.3927, 0.3927)~[a_x^{-1}]$\n\n.. topic:: Time scale\n\n    $\\quad \\tau_0 = 1 / \\omega_x = 0.00318~[{\\rm s/rad}]$\n\n    $\\quad \\tau_0 = 1~[\\omega_x^{-1}]$\n\n.. topic:: Time step duration, imaginary\n\n    $\\quad \\Delta \\tau_{\\rm im} = 1 / 50~[-i \\tau_0]$\n\n.. topic:: Number of time steps, imaginary\n\n    $\\quad N_{\\rm im} = 100$\n"
      ]
    },
    {
      "cell_type": "code",
      "execution_count": null,
      "metadata": {
        "collapsed": false
      },
      "outputs": [],
      "source": [
        "import os\nimport sys\nsys.path.insert(0, os.path.abspath('../..'))  # Adds project root to the PATH\n\nimport numpy as np\n\nfrom spinor_gpe.pspinor import pspinor as spin\n\n\n# 1. SETUP\n\nDATA_PATH = 'examples/Trial_011'  # Default data path is in the /data/ folder\n\nFREQ = 50\nW = 2*np.pi*FREQ\nY_SCALE = 1\nZ_SCALE = 40.0\n\nATOM_NUM = 1e2\nOMEG = {'x': W, 'y': Y_SCALE * W, 'z': Z_SCALE * W}\nG_SC = {'uu': 1, 'dd': 1, 'ud': 1.04}\n\nps = spin.PSpinor(DATA_PATH, overwrite=True,  # Initialize PSpinor object\n                  atom_num=ATOM_NUM,\n                  omeg=OMEG,\n                  g_sc=G_SC,\n                  pop_frac=(0.5, 0.5),\n                  r_sizes=(8, 8),\n                  mesh_points=(64, 64))\n\nps.coupling_setup(wavel=790.1e-9, kin_shift=False)\n\nZOOM = 4  # Zooms the momentum-space density plots by a constant factor\n\n# Plot real- and momentum-space density & real-space phase of both components\nps.plot_spins(rscale=ps.rad_tf, kscale=ps.kL_recoil, zoom=ZOOM)\n\n\n# 2. RUN (Imaginary-time)\n\nDT = 1/50\nN_STEPS = 100\nDEVICE = 'cpu'\nps.rand_seed = 99999\n\n# Run propagation loop:\n# - Returns `PropResult` & `TensorPropagator` objects\nres, prop = ps.imaginary(DT, N_STEPS, DEVICE, is_sampling=True, n_samples=50)\n\n\n# 3. ANALYZE\n\nres.plot_spins(rscale=ps.rad_tf, kscale=ps.kL_recoil, zoom=ZOOM)\nres.plot_total(kscale=ps.kL_recoil, zoom=ZOOM)  # Plot total density & phase\nres.plot_pops()  # Plot how the spins' populations evolves\nres.make_movie(rscale=ps.rad_tf, kscale=ps.kL_recoil, play=True, zoom=ZOOM,\n               norm_type='half')"
      ]
    }
  ],
  "metadata": {
    "kernelspec": {
      "display_name": "Python 3",
      "language": "python",
      "name": "python3"
    },
    "language_info": {
      "codemirror_mode": {
        "name": "ipython",
        "version": 3
      },
      "file_extension": ".py",
      "mimetype": "text/x-python",
      "name": "python",
      "nbconvert_exporter": "python",
      "pygments_lexer": "ipython3",
      "version": "3.7.11"
    }
  },
  "nbformat": 4,
  "nbformat_minor": 0
}