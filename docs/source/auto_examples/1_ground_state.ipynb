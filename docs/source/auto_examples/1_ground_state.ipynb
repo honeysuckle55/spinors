{
  "cells": [
    {
      "cell_type": "code",
      "execution_count": null,
      "metadata": {
        "collapsed": false
      },
      "outputs": [],
      "source": [
        "%matplotlib inline"
      ]
    },
    {
      "cell_type": "markdown",
      "metadata": {},
      "source": [
        "\n# Example 1: Ground State\n\nStarting with the Thomas-Fermi solution, propagate in imaginary time to\nreach the ground state. Propagation smooths out the sharp edges\non both components' densities.\n"
      ]
    },
    {
      "cell_type": "code",
      "execution_count": null,
      "metadata": {
        "collapsed": false
      },
      "outputs": [],
      "source": [
        "import os\nimport sys\nsys.path.insert(0, os.path.abspath('../..'))  # Adds project root to the PATH\n\nimport numpy as np\n\nfrom spinor_gpe.pspinor import pspinor as spin\n\n\n# 1. SETUP\n\nDATA_PATH = 'examples/Trial_011'  # Default data path is in the /data/ folder\n\nFREQ = 50\nW = 2*np.pi*FREQ\nY_SCALE = 1\nZ_SCALE = 40.0\n\nATOM_NUM = 1e2\nOMEG = {'x': W, 'y': Y_SCALE * W, 'z': Z_SCALE * W}\nG_SC = {'uu': 1, 'dd': 1, 'ud': 1.04}\n\nps = spin.PSpinor(DATA_PATH, overwrite=True,  # Initialize PSpinor object\n                  atom_num=ATOM_NUM,\n                  omeg=OMEG,\n                  g_sc=G_SC,\n                  pop_frac=(0.5, 0.5),\n                  r_sizes=(8, 8),\n                  mesh_points=(256, 256))\n\nps.coupling_setup(wavel=790.1e-9, kin_shift=False)\n\nZOOM = 4  # Zooms the momentum-space density plots by a constant factor\n\n# Plot real- and momentum-space density & real-space phase of both components\nps.plot_spins(rscale=ps.rad_tf, kscale=ps.kL_recoil, zoom=ZOOM)\n\n\n# 2. RUN (Imaginary-time)\n\nDT = 1/50\nN_STEPS = 1000\nDEVICE = 'cuda'\nps.rand_seed = 99999\n\n# Run propagation loop:\n# - Returns `PropResult` & `TensorPropagator` objects\nres, prop = ps.imaginary(DT, N_STEPS, DEVICE, is_sampling=True, n_samples=50)\n\n\n# 3. ANALYZE\n\nres.plot_spins(rscale=ps.rad_tf, kscale=ps.kL_recoil, zoom=ZOOM)\nres.plot_total(kscale=ps.kL_recoil, zoom=ZOOM)  # Plot total density & phase\nres.plot_pops()  # Plot how the spins' populations evolves\nres.make_movie(rscale=ps.rad_tf, kscale=ps.kL_recoil, play=True, zoom=ZOOM,\n               norm_type='half')"
      ]
    }
  ],
  "metadata": {
    "kernelspec": {
      "display_name": "Python 3",
      "language": "python",
      "name": "python3"
    },
    "language_info": {
      "codemirror_mode": {
        "name": "ipython",
        "version": 3
      },
      "file_extension": ".py",
      "mimetype": "text/x-python",
      "name": "python",
      "nbconvert_exporter": "python",
      "pygments_lexer": "ipython3",
      "version": "3.7.10"
    }
  },
  "nbformat": 4,
  "nbformat_minor": 0
}