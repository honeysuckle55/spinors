{
  "cells": [
    {
      "cell_type": "code",
      "execution_count": null,
      "metadata": {
        "collapsed": false
      },
      "outputs": [],
      "source": [
        "%matplotlib inline"
      ]
    },
    {
      "cell_type": "markdown",
      "metadata": {},
      "source": [
        "\n# Example 2: Anisotropic Time-of-Flight\n\nStarts with the Thomas-Fermi solution for a highly anisotropic trap.\nPropagates in imaginary time tor reach the ground state. The trapping\npotential is suddenly removed and both components expand and experience\nan inversion of their aspect ratio.\n"
      ]
    },
    {
      "cell_type": "code",
      "execution_count": null,
      "metadata": {
        "collapsed": false
      },
      "outputs": [],
      "source": [
        "import os\nimport sys\nsys.path.insert(0, os.path.abspath('../..'))  # Adds project root to the PATH\n\nimport numpy as np\n\nfrom spinor_gpe.pspinor import pspinor as spin\n\n\n# 1. SETUP\n\nDATA_PATH = 'examples/Trial_002'  # Default data path is in the /data/ folder\n\nFREQ = 50\nW = 2*np.pi*FREQ\nY_SCALE = 4\nZ_SCALE = 40.0\n\nATOM_NUM = 1e4\nOMEG = {'x': W, 'y': Y_SCALE * W, 'z': Z_SCALE * W}\nG_SC = {'uu': 1, 'dd': 1, 'ud': 0.5}\n\nps = spin.PSpinor(DATA_PATH, overwrite=True,\n                  atom_num=ATOM_NUM,\n                  omeg=OMEG,\n                  g_sc=G_SC,\n                  phase_factor=1,  # Complex unit phase factor on down spin\n                  pop_frac=(0.5, 0.5),\n                  r_sizes=(32, 32),\n                  mesh_points=(512, 512))\n\nps.coupling_setup(wavel=790.1e-9)\n\nZOOM = 4  # Zooms the momentum-space density plots by a constant factor\n\n# Plot real- and momentum-space density & real-space phase of both components\nps.plot_spins(rscale=ps.rad_tf, kscale=ps.kL_recoil, zoom=ZOOM)\n\n\n# 2. RUN (Imaginary-time)\n\nDT = 1/50\nN_STEPS = 1000\nDEVICE = 'cuda'\nps.rand_seed = 99999\n\n# Run propagation loop:\n# - Returns `PropResult` & `TensorPropagator` objects\nres0, prop0 = ps.imaginary(DT, N_STEPS, DEVICE, is_sampling=False, n_samples=50)\n\n\n# 3. ANALYZE\n\nres0.plot_spins(rscale=ps.rad_tf, kscale=ps.kL_recoil, zoom=ZOOM)\nres0.plot_total(kscale=ps.kL_recoil, zoom=ZOOM)\nres0.plot_pops()\n\n\n# 4. RUN (Real-time)\n\nDT = 1/500\nN_STEPS = 1000\nps.pot_eng = np.zeros_like(ps.pot_eng)  # Removes trapping potential\n\n# Run propagation loop\nres1, prop1 = ps.real(DT, N_STEPS, DEVICE, is_sampling=True, n_samples=50)\n\n\n# 5. ANALYZE\n\nres1.plot_spins(rscale=ps.rad_tf, kscale=ps.kL_recoil, zoom=ZOOM/2)\nres1.plot_total(kscale=ps.kL_recoil, zoom=ZOOM/2)\nres1.plot_pops()\nres1.make_movie(rscale=ps.rad_tf, kscale=ps.kL_recoil, play=True, zoom=ZOOM/2,\n                norm_type='half')"
      ]
    }
  ],
  "metadata": {
    "kernelspec": {
      "display_name": "Python 3",
      "language": "python",
      "name": "python3"
    },
    "language_info": {
      "codemirror_mode": {
        "name": "ipython",
        "version": 3
      },
      "file_extension": ".py",
      "mimetype": "text/x-python",
      "name": "python",
      "nbconvert_exporter": "python",
      "pygments_lexer": "ipython3",
      "version": "3.7.10"
    }
  },
  "nbformat": 4,
  "nbformat_minor": 0
}