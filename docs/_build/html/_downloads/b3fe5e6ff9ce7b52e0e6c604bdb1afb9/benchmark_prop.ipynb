{
  "cells": [
    {
      "cell_type": "code",
      "execution_count": null,
      "metadata": {
        "collapsed": false
      },
      "outputs": [],
      "source": [
        "%matplotlib inline"
      ]
    },
    {
      "cell_type": "markdown",
      "metadata": {},
      "source": [
        "\n# Propagation Time\n\nFor a given system and hardware configuration (CPU or GPU), this script\ngenerates `PSpinor` objects of increasing mesh grid size in a for-loop,\nstarting from (64, 64) up to (4096, 4096), or until the memory limit is\nreached. After generating the `PSpinor`, it performs a brief propagation\nin imaginary time, returning a `TensorPropagator` object `prop`. The script\nthen measures the time for a single function call of `prop.full_step()`, and\nrepeats that N times. With the measured times for each grid size, saves the\nmedian and median absolute deviation.\n"
      ]
    },
    {
      "cell_type": "code",
      "execution_count": null,
      "metadata": {
        "collapsed": false
      },
      "outputs": [],
      "source": [
        "import os\nimport sys\nimport timeit\n\nimport numpy as np\nimport torch\nfrom scipy.stats import median_abs_deviation as mad\n\nsys.path.insert(0, os.path.abspath('../../..'))  # Adds project root to PATH\n\nfrom spinor_gpe.pspinor import pspinor as spin\n\ntorch.cuda.empty_cache()\ngrids = [(64, 64),\n         (64, 128),\n         (128, 128),\n         (128, 256),\n         (256, 256),\n         (256, 512),\n         (512, 512),\n         (512, 1024),\n         (1024, 1024),\n         (1024, 2048),\n         (2048, 2048),\n         (2048, 4096),\n         (4096, 4096)]\ngrids = [grids[0]]\nn_grids = len(grids)\nmeas_times = [[0] for i in range(n_grids)]\nrepeats = np.zeros(n_grids)\nsize = np.zeros(n_grids)\n\n\nDATA_PATH = 'benchmarks/Bench_001'  # Default data path is in the /data/ folder\n\nW = 2 * np.pi * 50\nATOM_NUM = 1e2\nOMEG = {'x': W, 'y': W, 'z': 40 * W}\nG_SC = {'uu': 1, 'dd': 1, 'ud': 1.04}\n\nDEVICE = 'cuda'\nCOMPUTER = 'Acer Aspire'\n\nfor i, grid in enumerate(grids):\n    print(i)\n    try:\n        # Create a PSpinor object\n        ps = spin.PSpinor(DATA_PATH, overwrite=True,\n                          atom_num=ATOM_NUM, omeg=OMEG, g_sc=G_SC,\n                          pop_frac=(0.5, 0.5), r_sizes=(8, 8),\n                          mesh_points=grid)\n        ps.coupling_setup(wavel=790.1e-9, kin_shift=False)\n        res, prop = ps.imaginary(1/50, 1, DEVICE, is_sampling=False)\n\n        stmt = \"\"\"prop.full_step()\"\"\"  # A full time step function call.\n\n        # Create a code timing object.\n        timer = timeit.Timer(stmt=stmt, globals=globals())\n\n        # Estimate the number of timing repetitions to make\n        N = timer.autorange()[0]\n        if N < 10:\n            N *= 10\n\n        vals = timer.repeat(N, 1)  # Time and repeat N times.\n\n        # Save timing values.\n        meas_times[i] = vals\n        repeats[i] = N\n        size[i] = np.log2(np.prod(grid))\n        torch.cuda.empty_cache()\n    except RuntimeError as ex:\n        print(ex)\n        break"
      ]
    },
    {
      "cell_type": "code",
      "execution_count": null,
      "metadata": {
        "collapsed": false
      },
      "outputs": [],
      "source": [
        "median = np.array([np.median(times) for times in meas_times])\nmed_ab_dev = np.array([mad(times, scale='normal') for times in meas_times])\n\ntag = COMPUTER + '_' + DEVICE\nnp.savez('bench_data\\\\' + tag, computer=COMPUTER, device=DEVICE,\n         size=size, n_repeats=repeats, med=median, mad=med_ab_dev)\n\nnp.save(ps.paths['data'] + '..\\\\' + tag, np.array(meas_times, dtype='object'))"
      ]
    }
  ],
  "metadata": {
    "kernelspec": {
      "display_name": "Python 3",
      "language": "python",
      "name": "python3"
    },
    "language_info": {
      "codemirror_mode": {
        "name": "ipython",
        "version": 3
      },
      "file_extension": ".py",
      "mimetype": "text/x-python",
      "name": "python",
      "nbconvert_exporter": "python",
      "pygments_lexer": "ipython3",
      "version": "3.7.11"
    }
  },
  "nbformat": 4,
  "nbformat_minor": 0
}