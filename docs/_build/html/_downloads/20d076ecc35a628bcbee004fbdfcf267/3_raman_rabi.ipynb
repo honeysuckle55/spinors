{
  "cells": [
    {
      "cell_type": "code",
      "execution_count": null,
      "metadata": {
        "collapsed": false
      },
      "outputs": [],
      "source": [
        "%matplotlib inline"
      ]
    },
    {
      "cell_type": "markdown",
      "metadata": {},
      "source": [
        "\n# Example 3: Raman Rabi Flopping\n\nStarts with the Thomas-Fermi solution with all the population in one spin\ncomponent. Propagates in imaginary time to the ground state. From here,\nconfigures a uniform Raman coupling which drives the population on resonance\nbetween the two components.\n\n## Physical Parameters\n.. topic:: Atom number\n\n    $\\quad N_{\\rm at} = 10,000$\n\n.. topic:: Atomic mass, Rubidium-87\n\n    $\\quad m = 1.4442 \\times 10^{-25}~[\\rm kg]$\n\n.. topic:: Trap frequencies\n\n    $\\quad (\\omega_x, \\omega_y, \\omega_z) = 2 \\pi \\times (50, 200, 2000)~[{\\rm Hz}]$\n\n    $\\quad (\\omega_x, \\omega_y, \\omega_z) = \\omega_x \\times (1, \\gamma, \\eta) = (1, 1, 40)~[\\omega_x]$\n\n.. topic:: Harmonic oscillator length, x-axis\n\n    $\\quad a_x = \\sqrt{\\hbar / m \\omega_x} = 1.525~[{\\mu\\rm m}]$\n\n.. topic:: 3D scattering length, Rubidium-87\n\n    | $\\quad a = 5.313~[{\\rm nm}]$\n\n    | $\\quad a_{\\rm sc} = a / a_x = 0.00348~[a_x]$\n\n.. topic:: Scattering 2D scale\n\n    | $\\quad g_{\\rm sc}^{2\\rm D} = \\sqrt{8\\pi\\eta}~a_{\\rm sc} = 0.1105~[\\omega_x a_x^2]$\n\n.. topic:: Scattering coupling\n\n    | $\\quad (g_{\\rm uu}, g_{\\rm dd}, g_{\\rm ud}) = g_{\\rm sc}^{2 \\rm D} \\times (1, 1, 0.0)~[\\omega_x a_x^2]$\n\n.. topic:: Chemical potential\n\n    $\\quad \\mu = \\sqrt{4 N_{\\rm at} a_{\\rm sc} \\gamma \\sqrt{\\eta / 2 \\pi}} = 18.754~[\\omega_x]$\n\n.. topic:: Thomas-Fermi radius\n\n    $\\quad R_{\\rm TF} = \\sqrt{2 \\mu} = 6.124~[a_x]$\n\n.. topic:: Initial population fractions\n\n    $\\quad (p_0, p_1) = (1.0, 0.0)$\n\n.. topic:: Raman wavelength\n\n    $\\quad \\lambda_L = 790.1~[{\\rm nm}]$\n\n## Numerical Parameters\n\n.. topic:: Number of grid points\n\n    $\\quad (N_x, N_y) = (256, 256)$\n\n.. topic:: r-grid half-size\n\n    $\\quad (x^{\\rm max}, y^{\\rm max}) = (16, 16)~[a_x]$\n\n.. topic:: r-grid spacing\n\n    $\\quad (\\Delta x, \\Delta y) = (0.125, 0.125)~[a_x]$\n\n.. topic:: k-grid half-size\n\n    $\\quad (k_x^{\\rm max}, k_y^{\\rm max}) = \\pi / (\\Delta x, \\Delta y)$\n\n    $\\quad (k_x^{\\rm max}, k_y^{\\rm max}) = (25.133, 25.133)~[a_x^{-1}]$\n\n.. topic:: k-grid spacing\n\n    $\\quad (\\Delta k_x, \\Delta k_y) = \\pi / (x^{\\rm max}, y^{\\rm max})$\n\n    $\\quad (\\Delta k_x, \\Delta k_y) = (0.1963, 0.1963)~[a_x^{-1}]$\n\n.. topic:: Time scale\n\n    $\\quad \\tau_0 = 1 / \\omega_x = 0.00318~[{\\rm s/rad}]$\n\n    $\\quad \\tau_0 = 1~[\\omega_x^{-1}]$\n\n.. topic:: Time step duration, imaginary\n\n    $\\quad \\Delta \\tau_{\\rm im} = 1 / 50~[-i \\tau_0]$\n\n.. topic:: Number of time steps, imaginary\n\n    $\\quad N_{\\rm im} = 1000$\n\n.. topic:: Time step duration, real\n\n    $\\quad \\Delta \\tau_{\\rm real} = 1 / 5000~[\\tau_0]$\n\n.. topic:: Number of time steps, real\n\n    $\\quad N_{\\rm real} = 2000$\n"
      ]
    },
    {
      "cell_type": "code",
      "execution_count": null,
      "metadata": {
        "collapsed": false
      },
      "outputs": [],
      "source": [
        "import os\nimport sys\nsys.path.insert(0, os.path.abspath('../..'))  # Adds project root to the PATH\n\nimport numpy as np\n\nfrom spinor_gpe.pspinor import pspinor as spin\n\n\n# 1. SETUP\n\nDATA_PATH = 'examples/Trial_003'  # Default data path is in the /data/ folder\n\nFREQ = 50\nW = 2*np.pi*FREQ\nY_SCALE = 1\nZ_SCALE = 40.0\n\nATOM_NUM = 1e4\nOMEG = {'x': W, 'y': Y_SCALE * W, 'z': Z_SCALE * W}\nG_SC = {'uu': 1, 'dd': 1, 'ud': 0.0}\nPOP_FRAC = (1.0, 0.0)\n\nps = spin.PSpinor(DATA_PATH, overwrite=True,\n                  atom_num=ATOM_NUM,\n                  omeg=OMEG,\n                  g_sc=G_SC,\n                  pop_frac=POP_FRAC,\n                  r_sizes=(16, 16),\n                  mesh_points=(256, 256))\n\nps.coupling_setup(wavel=790.1e-9, kin_shift=True)\n\n# Shifts the k-space density momentum peaks by `kshift_val` [`kL_recoil` units]\nps.shift_momentum(scale=1.0, frac=(0, 1.0))\n\n# Selects the form of the coupling operator in the non-rotated reference frame\nps.rot_coupling = False\n\nZOOM = 2  # Zooms the momentum-space density plots by a constant factor\n\nps.plot_spins(rscale=ps.rad_tf, kscale=ps.kL_recoil, zoom=ZOOM)\n\n\n# 2. RUN (Imaginary-time)\n\nDT = 1/50\nN_STEPS = 1000\nDEVICE = 'cuda'\nps.rand_seed = 99999\n\nres0, prop0 = ps.imaginary(DT, N_STEPS, DEVICE, is_sampling=True, n_samples=50)\n\n\n# 3. ANALYZE\n\nres0.plot_spins(rscale=ps.rad_tf, kscale=ps.kL_recoil, zoom=ZOOM)\nres0.plot_total(kscale=ps.kL_recoil, zoom=ZOOM)\nres0.plot_pops()\n# res0.make_movie(rscale=ps.rad_tf, kscale=ps.kL_recoil, play=True, zoom=ZOOM)\nprint(f'\\nFinal energy: {res0.eng_final[0]} [hbar * omeg]')\n\n\n# 4. RUN (Real-time)\n\n# Initializes a uniform Raman coupling (scaled in `EL_recoil` units)\nps.coupling_uniform(1.0 * ps.EL_recoil)\n\nDT = 1/5000\nN_STEPS = 2000\nres1, prop1 = ps.real(DT, N_STEPS, DEVICE, is_sampling=True, n_samples=100)\n\n\n# 5. ANALYZE\n\nres1.plot_spins(rscale=ps.rad_tf, kscale=ps.kL_recoil, zoom=ZOOM/2)\nres1.plot_total(kscale=ps.kL_recoil, zoom=ZOOM/2)\nres1.plot_pops()\nres1.make_movie(rscale=ps.rad_tf, kscale=ps.kL_recoil, play=True, zoom=ZOOM/2)\nprint(f'\\nFinal energy: {res1.eng_final[0]} [hbar * omeg]')"
      ]
    }
  ],
  "metadata": {
    "kernelspec": {
      "display_name": "Python 3",
      "language": "python",
      "name": "python3"
    },
    "language_info": {
      "codemirror_mode": {
        "name": "ipython",
        "version": 3
      },
      "file_extension": ".py",
      "mimetype": "text/x-python",
      "name": "python",
      "nbconvert_exporter": "python",
      "pygments_lexer": "ipython3",
      "version": "3.7.11"
    }
  },
  "nbformat": 4,
  "nbformat_minor": 0
}