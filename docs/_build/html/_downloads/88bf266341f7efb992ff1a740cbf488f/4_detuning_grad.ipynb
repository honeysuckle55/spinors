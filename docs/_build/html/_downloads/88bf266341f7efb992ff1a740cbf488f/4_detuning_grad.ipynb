{
  "cells": [
    {
      "cell_type": "code",
      "execution_count": null,
      "metadata": {
        "collapsed": false
      },
      "outputs": [],
      "source": [
        "%matplotlib inline"
      ]
    },
    {
      "cell_type": "markdown",
      "metadata": {},
      "source": [
        "\n# Example 4: Raman Detuning Gradient Ground State\n\nStarts with the Thomas-Fermi solution. Configures a uniform Raman coupling\nand a linear gradient in the Raman detuning. Propagates in imaginary time,\nbefore reaching the ground state of this configuration. The detuning\ngradient separates the two components vertically, and the line where they\ninterfere is a row of vortices.\n"
      ]
    },
    {
      "cell_type": "code",
      "execution_count": null,
      "metadata": {
        "collapsed": false
      },
      "outputs": [],
      "source": [
        "import os\nimport sys\nsys.path.insert(0, os.path.abspath('../..'))  # Adds project root to the PATH\n\nimport numpy as np\n\nfrom spinor_gpe.pspinor import pspinor as spin\n\n# 1. SETUP\n\nDATA_PATH = 'examples/Trial_004'  # Default data path is in the /data/ folder\n\nFREQ = 50\nW = 2*np.pi*FREQ\nY_SCALE = 1\nZ_SCALE = 40.0\n\nATOM_NUM = 1e4\nOMEG = {'x': W, 'y': Y_SCALE * W, 'z': Z_SCALE * W}\nG_SC = {'uu': 1, 'dd': 0.995, 'ud': 0.995}\n\nps = spin.PSpinor(DATA_PATH, overwrite=True,  # Initialize PSpinor object\n                  atom_num=ATOM_NUM,\n                  omeg=OMEG,\n                  g_sc=G_SC,\n                  pop_frac=(0.5, 0.5),\n                  r_sizes=(16, 16),\n                  mesh_points=(256, 256))\n\nps.coupling_setup(wavel=804e-9, kin_shift=True)\n\n# Shifts the k-space density momentum peaks by `kshift_val` [`kL_recoil` units]\nps.shift_momentum(scale=0.6, frac=(0.5, 0.5))\nps.coupling_uniform(5 * ps.EL_recoil)\nps.detuning_grad(-12)\n\n# Selects the form of the coupling operator in the rotated reference frame\nps.rot_coupling = True\n\nZOOM = 2  # Zooms the momentum-space density plots by a constant factor\n\nps.plot_spins(rscale=ps.rad_tf, kscale=ps.kL_recoil, zoom=ZOOM)\n\n\n# 2. RUN (Imaginary-time)\n\nN_STEPS = 1000\nDT = 1/50\nDEVICE = 'cuda'\nps.rand_seed = 99999\n\nres = ps.imaginary(DT, N_STEPS, DEVICE, is_sampling=True, n_samples=50)\n\n\n# 3. ANALYZE\n\nres.plot_spins(rscale=ps.rad_tf, kscale=ps.kL_recoil, zoom=ZOOM)\nres.plot_total(kscale=ps.kL_recoil, zoom=ZOOM)\nres.plot_pops()\nres.make_movie(rscale=ps.rad_tf, kscale=ps.kL_recoil, play=True, zoom=ZOOM,\n               norm_type='half')\nprint(f'\\nFinal energy: {res.eng_final[0]} [hbar * omeg]')"
      ]
    }
  ],
  "metadata": {
    "kernelspec": {
      "display_name": "Python 3",
      "language": "python",
      "name": "python3"
    },
    "language_info": {
      "codemirror_mode": {
        "name": "ipython",
        "version": 3
      },
      "file_extension": ".py",
      "mimetype": "text/x-python",
      "name": "python",
      "nbconvert_exporter": "python",
      "pygments_lexer": "ipython3",
      "version": "3.8.8"
    }
  },
  "nbformat": 4,
  "nbformat_minor": 0
}